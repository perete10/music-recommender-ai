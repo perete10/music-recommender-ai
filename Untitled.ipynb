{
 "cells": [
  {
   "cell_type": "code",
   "execution_count": 2,
   "id": "46b0a842-a56f-40da-b55d-e161c1078d59",
   "metadata": {},
   "outputs": [],
   "source": [
    "import pandas as pd\n",
    "\n",
    "# Cargar los archivos CSV\n",
    "canciones_df = pd.read_csv('canciones22.csv')\n",
    "perfiles_df = pd.read_csv('cluster2.csv')"
   ]
  },
  {
   "cell_type": "code",
   "execution_count": 2,
   "id": "5e5f1de3-2a59-4eb6-b3d3-d8759921ed32",
   "metadata": {},
   "outputs": [
    {
     "name": "stdout",
     "output_type": "stream",
     "text": [
      "Num GPUs Available:  0\n"
     ]
    }
   ],
   "source": [
    "import tensorflow as tf\n",
    "print(\"Num GPUs Available: \", len(tf.config.experimental.list_physical_devices('GPU')))\n"
   ]
  },
  {
   "cell_type": "code",
   "execution_count": 15,
   "id": "f22f3405-97cb-4fd2-b5c0-89162878708a",
   "metadata": {},
   "outputs": [
    {
     "name": "stdout",
     "output_type": "stream",
     "text": [
      "Archivo guardado exitosamente en: perfiles_con_canciones.csv\n"
     ]
    }
   ],
   "source": [
    "import pandas as pd\n",
    "import numpy as np\n",
    "\n",
    "def assign_song_contextual(user, songs, assigned_songs, popularity_weight=4):\n",
    "    \"\"\"\n",
    "    Asigna una canción a un usuario basado en:\n",
    "    - Género musical favorito (`SuperGenre`).\n",
    "    - Estado de ánimo (`music_Influencial_mood`).\n",
    "    - Frecuencia de escucha (`music_lis_frequency`).\n",
    "    - Popularidad, características avanzadas y penalización por repetición.\n",
    "    - Artistas relevantes según la edad del usuario.\n",
    "    \"\"\"\n",
    "    # Artistas relevantes según la edad (extensivo y realista)\n",
    "    age_specific_artists = {\n",
    "        '60+': [\n",
    "        'Frank Sinatra', 'Elvis Presley', 'The Beatles', 'Nat King Cole', 'Ray Charles', 'Ella Fitzgerald',\n",
    "        'Louis Armstrong', 'Aretha Franklin', 'Johnny Cash', 'Dean Martin', 'Bob Dylan', 'Patsy Cline',\n",
    "        'The Platters', 'Roy Orbison', 'Glenn Miller', 'Billie Holiday', 'Bing Crosby', 'The Everly Brothers',\n",
    "        'Tony Bennett', 'Fats Domino', 'Sam Cooke', 'Duke Ellington', 'Brenda Lee', 'Ricky Nelson', 'Joan Baez',\n",
    "        'Perry Como', 'Connie Francis', 'Andy Williams', 'Peter, Paul and Mary', 'Dusty Springfield',\n",
    "        'Tammy Wynette', 'Loretta Lynn', 'Merle Haggard', 'Willie Nelson', 'Charlie Parker', 'Benny Goodman',\n",
    "        'Otis Redding', 'The Supremes', 'Marvin Gaye', 'Bobby Darin', 'The Mamas & The Papas', 'The Beach Boys',\n",
    "        'Carpenters', 'Simon & Garfunkel', 'Jim Croce', 'Carole King', 'Etta James', 'Stevie Wonder',\n",
    "        'Paul Anka', 'Neil Diamond', 'Johnny Mathis', 'Janis Joplin', 'Led Zeppelin', 'The Rolling Stones',\n",
    "        'Pink Floyd', 'Eric Clapton', 'Crosby, Stills, Nash & Young', 'Cat Stevens', 'Rod Stewart', 'Joni Mitchell',\n",
    "        'The Temptations', 'Jackson 5', 'Al Green', 'Van Morrison', 'The Doors', 'The Who', 'Cream', \n",
    "        'Chicago', 'Blood, Sweat & Tears', 'George Harrison', 'Ringo Starr', 'Jefferson Airplane'\n",
    "    ],\n",
    "    '35~60': [\n",
    "        'Madonna', 'Michael Jackson', 'Prince', 'U2', 'Queen', 'Phil Collins', 'Whitney Houston',\n",
    "        'Bon Jovi', 'Bruce Springsteen', 'George Michael', 'Tina Turner', 'Billy Joel', 'Fleetwood Mac',\n",
    "        'ABBA', 'The Police', 'Aerosmith', 'Journey', 'Cyndi Lauper', 'The Cure', 'Depeche Mode',\n",
    "        'The Smiths', 'Simple Minds', 'Duran Duran', 'Tears for Fears', 'Roxette', 'Janet Jackson',\n",
    "        'Genesis', 'Eurythmics', 'Dire Straits', 'Heart', 'Def Leppard', 'Van Halen', 'Scorpions', 'Europe',\n",
    "        'Sade', 'Richard Marx', 'Bryan Adams', 'Sting', 'A-ha', 'Wham!', 'Foreigner', 'The Bangles', 'INXS',\n",
    "        'Guns N\\' Roses', 'Metallica', 'AC/DC', 'REM', 'Pat Benatar', 'Talking Heads', 'Blondie',\n",
    "        'Pet Shop Boys', 'Culture Club', 'The Human League', 'Level 42', 'Rick Astley', 'Erasure',\n",
    "        'Berlin', 'Billy Idol', 'REO Speedwagon', 'Boston', 'Kenny Loggins', 'Toto', 'Lionel Richie',\n",
    "        'Paul McCartney', 'Stevie Nicks', 'Joe Cocker', 'Chaka Khan', 'Boy George', 'The Cranberries',\n",
    "        'Shania Twain', 'Natalie Cole', 'Kool & The Gang', 'Earth, Wind & Fire', 'Gloria Estefan',\n",
    "        'Barry White', 'Donna Summer', 'The Alan Parsons Project'\n",
    "    ],\n",
    "    '20~35': [\n",
    "        'Drake', 'Ariana Grande', 'The Weeknd', 'Ed Sheeran', 'Taylor Swift', 'Dua Lipa', 'Post Malone',\n",
    "        'Doja Cat', 'Bad Bunny', 'Rosalía', 'Billie Eilish', 'Harry Styles', 'BTS', 'BLACKPINK',\n",
    "        'Imagine Dragons', 'Coldplay', 'Justin Bieber', 'Selena Gomez', 'Shawn Mendes', 'Camila Cabello',\n",
    "        'Khalid', 'Maroon 5', 'Halsey', 'Lizzo', 'J Balvin', 'Karol G', 'Anitta', 'Sam Smith', 'Olivia Rodrigo',\n",
    "        'Lil Nas X', 'SZA', 'Tate McRae', 'The Kid LAROI', 'Conan Gray', 'Charlie Puth', 'Alan Walker',\n",
    "        'Kygo', 'Zedd', 'Marshmello', 'Jonas Brothers', 'AJR', 'Twenty One Pilots', '5 Seconds of Summer',\n",
    "        'Tame Impala', 'Lauv', 'Troye Sivan', 'Glass Animals', 'Rina Sawayama', 'Anne-Marie', 'Saweetie',\n",
    "        'Becky G', 'Sebastián Yatra', 'Farruko', 'Ozuna', 'Natti Natasha', 'Rauw Alejandro', 'Megan Thee Stallion',\n",
    "        'Cardi B', 'Nicki Minaj', 'Machine Gun Kelly', 'Hozier', 'Of Monsters and Men', 'Bastille', \n",
    "        'Vance Joy', 'The Chainsmokers', 'Zara Larsson', 'KAROL G', 'Maneskin'\n",
    "    ],\n",
    "    '12~20': [\n",
    "        'Billie Eilish', 'Olivia Rodrigo', 'BTS', 'BLACKPINK', 'Harry Styles', 'Conan Gray', 'Tate McRae',\n",
    "        'The Kid LAROI', 'Ava Max', 'Jxdn', 'TXT', 'Stray Kids', 'NCT', 'ITZY', 'Aespa', 'Seventeen', 'TREASURE',\n",
    "        'NewJeans', 'The Weeknd', 'Doja Cat', 'Lil Nas X', 'SZA', 'Rosalía', 'Bad Bunny', 'Karol G', 'J Balvin',\n",
    "        'Rauw Alejandro', 'Shawn Mendes', 'Camila Cabello', 'Halsey', 'Khalid', 'TOMORROW X TOGETHER',\n",
    "        'TREASURE', 'TWICE', 'Le Sserafim', 'Ive', 'Kehlani', 'Sabrina Carpenter', 'Joshua Bassett',\n",
    "        'Madison Beer', 'Alec Benjamin', 'Lana Del Rey', 'Arctic Monkeys', 'Imagine Dragons', \n",
    "        'Paramore', 'The 1975', 'Coldplay', 'Tame Impala', 'Twenty One Pilots', 'Alan Walker',\n",
    "        'Kygo', 'Zedd', 'Marshmello', 'AJR', 'Becky G', 'Anne-Marie', 'Zara Larsson', 'Ellie Goulding'\n",
    "    ]\n",
    "    }\n",
    "# Inicializar puntuación\n",
    "    songs['score'] = 0\n",
    "\n",
    "    # Paso 1: Filtro por género musical favorito\n",
    "    if pd.notna(user['fav_music_genre']) and user['fav_music_genre'].lower() != 'all':\n",
    "        songs['score'] += songs['SuperGenre'].str.fullmatch(user['fav_music_genre'], case=False, na=False) * 20\n",
    "\n",
    "    # Paso 2: Priorización por popularidad\n",
    "    songs['score'] += (songs['popularity'] / 10) * popularity_weight\n",
    "\n",
    "    # Paso 3: Priorización por artistas relevantes\n",
    "    if pd.notna(user['Age']) and user['Age'] in age_specific_artists:\n",
    "        relevant_artists = age_specific_artists[user['Age']]\n",
    "        songs['score'] += songs['artists'].str.contains('|'.join(relevant_artists), case=False, na=False) * 25\n",
    "\n",
    "    # Paso 4: Priorización por estado de ánimo\n",
    "    if pd.notna(user['music_Influencial_mood']):\n",
    "        moods = [mood.strip().lower() for mood in user['music_Influencial_mood'].split(\",\")]\n",
    "        mood_priority = {\n",
    "            'motivational': {'energy': (0.7, 1.0), 'valence': (0.5, 1.0), 'weight': 20},\n",
    "            'relaxation': {'acousticness': (0.6, 1.0), 'energy': (0.0, 0.4), 'weight': 15},\n",
    "            'sadness': {'valence': (0.0, 0.3), 'energy': (0.0, 0.5), 'weight': 10},\n",
    "            'social': {'danceability': (0.7, 1.0), 'energy': (0.5, 1.0), 'weight': 10}\n",
    "        }\n",
    "        for mood in moods:\n",
    "            if mood in mood_priority:\n",
    "                conditions = mood_priority[mood]\n",
    "                for feature, values in conditions.items():\n",
    "                    if feature != 'weight':\n",
    "                        min_val, max_val = values\n",
    "                        songs['score'] += ((songs[feature] >= min_val) & (songs[feature] <= max_val)) * conditions['weight']\n",
    "\n",
    "    # Paso 5: Priorización por frecuencia de escucha\n",
    "    if pd.notna(user['music_lis_frequency']):\n",
    "        frequencies = [freq.strip().lower() for freq in user['music_lis_frequency'].split(\",\")]\n",
    "        frequency_weights = {\n",
    "            'workout session': {'energy': (0.8, 1.0), 'danceability': (0.6, 1.0), 'weight': 15},\n",
    "            'social gatherings': {'danceability': (0.7, 1.0), 'weight': 12},\n",
    "            'while traveling': {'tempo': (100, 200), 'weight': 10},\n",
    "            'office hours': {'instrumentalness': (0.3, 1.0), 'valence': (0.4, 1.0), 'weight': 8},\n",
    "            'study hours': {'acousticness': (0.4, 1.0), 'weight': 8},\n",
    "            'leisure time': {'valence': (0.5, 1.0), 'energy': (0.3, 0.6), 'weight': 6}\n",
    "        }\n",
    "        for freq in frequencies:\n",
    "            if freq in frequency_weights:\n",
    "                conditions = frequency_weights[freq]\n",
    "                for feature, values in conditions.items():\n",
    "                    if feature != 'weight':\n",
    "                        min_val, max_val = values\n",
    "                        songs['score'] += ((songs[feature] >= min_val) & (songs[feature] <= max_val)) * conditions['weight']\n",
    "\n",
    "    # Paso 6: Penalización por repetición de artistas y canciones\n",
    "    songs.loc[songs['track_id'].isin(assigned_songs), 'score'] -= 100\n",
    "\n",
    "    # Paso 7: Selección final basada en puntuación\n",
    "    best_song = songs.loc[songs['score'].idxmax()]\n",
    "    if best_song['score'] > 0:\n",
    "        return pd.Series([best_song['track_name'], best_song['track_id']])\n",
    "\n",
    "    # Fallback si no hay coincidencias\n",
    "    fallback_songs = songs[~songs['track_id'].isin(assigned_songs)]\n",
    "    if not fallback_songs.empty:\n",
    "        fallback_song = fallback_songs.sort_values(by='popularity', ascending=False).iloc[0]\n",
    "        return pd.Series([fallback_song['track_name'], fallback_song['track_id']])\n",
    "\n",
    "    return pd.Series([None, None])\n",
    "\n",
    "# Procesar usuarios y asignar canciones\n",
    "assigned_songs = set()\n",
    "for index, user in perfiles_df.iterrows():\n",
    "    result = assign_song_contextual(user, canciones_df, assigned_songs)\n",
    "    perfiles_df.at[index, 'Assigned_Song'] = result[0]\n",
    "    perfiles_df.at[index, 'Track_ID'] = result[1]\n",
    "    if result[1]:\n",
    "        assigned_songs.add(result[1])\n",
    "\n",
    "# Guardar resultados\n",
    "output_file = 'perfiles_con_canciones.csv'\n",
    "perfiles_df.to_csv(output_file, index=False)\n",
    "print(f\"Archivo guardado exitosamente en: {output_file}\")"
   ]
  },
  {
   "cell_type": "markdown",
   "id": "29e50d10-5203-46ed-8c5f-0fe1101f4d18",
   "metadata": {},
   "source": [
    "## Asignación cancion "
   ]
  },
  {
   "cell_type": "code",
   "execution_count": 48,
   "id": "0d6f6f6e-2e01-40af-9477-e369d67bf0b1",
   "metadata": {},
   "outputs": [
    {
     "name": "stdout",
     "output_type": "stream",
     "text": [
      "<class 'pandas.core.frame.DataFrame'>\n",
      "RangeIndex: 9469 entries, 0 to 9468\n",
      "Data columns (total 8 columns):\n",
      " #   Column                  Non-Null Count  Dtype \n",
      "---  ------                  --------------  ----- \n",
      " 0   Age                     9469 non-null   object\n",
      " 1   Gender                  9469 non-null   object\n",
      " 2   fav_music_genre         9469 non-null   object\n",
      " 3   music_time_slot         9469 non-null   object\n",
      " 4   music_Influencial_mood  9469 non-null   object\n",
      " 5   music_lis_frequency     9469 non-null   object\n",
      " 6   Assigned_Song           9469 non-null   object\n",
      " 7   Track_ID                9469 non-null   object\n",
      "dtypes: object(8)\n",
      "memory usage: 591.9+ KB\n"
     ]
    }
   ],
   "source": [
    "perfiles_df.info()"
   ]
  },
  {
   "cell_type": "code",
   "execution_count": 52,
   "id": "e2fbe5df-701e-4dbb-b326-b5746440dc4a",
   "metadata": {},
   "outputs": [
    {
     "data": {
      "text/plain": [
       "fav_music_genre\n",
       "Música Cultural y Melódica         2415\n",
       "Ritmos Globales y Festivos         1836\n",
       "Pop Urbano y Ritmos Modernos       1773\n",
       "Ambiental y Relajante              1747\n",
       "All                                 452\n",
       "Rock Electrónico y Energético       439\n",
       "Electrónica y House Alternativo     429\n",
       "Acústica y Nostálgica               378\n",
       "Name: count, dtype: int64"
      ]
     },
     "execution_count": 52,
     "metadata": {},
     "output_type": "execute_result"
    }
   ],
   "source": [
    "perfiles_df['fav_music_genre'].value_counts()"
   ]
  }
 ],
 "metadata": {
  "kernelspec": {
   "display_name": "Python 3 (ipykernel)",
   "language": "python",
   "name": "python3"
  },
  "language_info": {
   "codemirror_mode": {
    "name": "ipython",
    "version": 3
   },
   "file_extension": ".py",
   "mimetype": "text/x-python",
   "name": "python",
   "nbconvert_exporter": "python",
   "pygments_lexer": "ipython3",
   "version": "3.12.3"
  }
 },
 "nbformat": 4,
 "nbformat_minor": 5
}
